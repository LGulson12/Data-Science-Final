{
  "nbformat": 4,
  "nbformat_minor": 0,
  "metadata": {
    "colab": {
      "provenance": []
    },
    "kernelspec": {
      "name": "python3",
      "display_name": "Python 3"
    },
    "language_info": {
      "name": "python"
    }
  },
  "cells": [
    {
      "cell_type": "markdown",
      "source": [
        "Luke Gulson: [https://lgulson12.github.io/Data-Science-Final](https://lgulson12.github.io/Data-Science-Final)"
      ],
      "metadata": {
        "id": "mV_fa8vajBJY"
      }
    },
    {
      "cell_type": "markdown",
      "source": [
        "Light housekeeping to get `pandas` working and proprely connected to Gooogle Collab."
      ],
      "metadata": {
        "id": "hEGNrWLyoREr"
      }
    },
    {
      "cell_type": "code",
      "execution_count": null,
      "metadata": {
        "colab": {
          "base_uri": "https://localhost:8080/"
        },
        "id": "xPvy9VGw7Yy3",
        "outputId": "1e99cbe5-8f66-4356-edb4-69595704af0c"
      },
      "outputs": [
        {
          "output_type": "stream",
          "name": "stdout",
          "text": [
            "Drive already mounted at /content/drive; to attempt to forcibly remount, call drive.mount(\"/content/drive\", force_remount=True).\n",
            "/content/drive/My Drive/Colab_Notebooks/Final_Tutorial\n"
          ]
        }
      ],
      "source": [
        "import pandas as pd \n",
        "import numpy as np\n",
        "import re\n",
        "pd.set_option(\"display.max_rows\", None, \"display.max_columns\", None)\n",
        "from google.colab import drive\n",
        "drive.mount('/content/drive')\n",
        "%cd /content/drive/My Drive/Colab_Notebooks/Final_Tutorial"
      ]
    },
    {
      "cell_type": "markdown",
      "source": [
        "# **Video Media and Attention Span**\n",
        "\n",
        "By Luke Gulson"
      ],
      "metadata": {
        "id": "kUBc6QkFEM2o"
      }
    },
    {
      "cell_type": "markdown",
      "source": [
        "**Project Goals**\n",
        "\n",
        "The goal of this project is to explore whether TV viewers are currently more in favor of shorter and more quickly consumable content. People tend to associate the younger generations of today (Millenials/Gen Z) with shorter attention spans, and I decided I'd set out to see if data about television viewership supported this generalization. Additionally, I've sampled some data pertaining to trending YouTube videos to see if the same pattern emmerged there. I wanted to see specifically if there was any trends or correlation between runtimes of these visual media forms and the reception that they have recieved.\n",
        "\n",
        "By analyzing the relationships of the following variables, I believe we'll look to answer"
      ],
      "metadata": {
        "id": "o7b6dtYFIpjR"
      }
    },
    {
      "cell_type": "markdown",
      "source": [
        "# **Streaming Site Datasets**\n",
        "\n",
        "The first two tables here will be based on five different datasets, all acquired from [kaggle](https://kaggle.com) which contains data from over 20,000 different shows and movies available the top streaming services - Netflix, HBO Max, Disney+, Amazon Prime, Hulu respectively. Sampled from specifically titles available in the United States as of May - July 2022. Each of these unique titles contains a number of corresponding variables:\n",
        "\n",
        "* `id`: The title ID on JustWatch.\n",
        "* `title`: The name of the title.\n",
        "* `show_type`: TV show or movie.\n",
        "* `description`: A brief description.\n",
        "* `release_year`: The release year.\n",
        "* `age_certification`: The age certification.\n",
        "* `runtime`: The length of the episode (SHOW) or movie.\n",
        "* `genres`: A list of genres.\n",
        "* `production_countries`: A list of countries that produced the title.\n",
        "* `seasons`: Number of seasons if it's a SHOW.\n",
        "* `imdb_id`: The title ID on IMDB.\n",
        "* `imdb_score`: Score on IMDB.\n",
        "* `imdb_votes`: Votes on IMDB.\n",
        "* `tmdb_popularity`: Popularity on TMDB.\n",
        "* `tmdb_score`: Score on TMDB.\n",
        "\n",
        "While all of these variables are nice and dandy, for our purposes we'll only be looking at the variables: `runtime`, `imdb_score`, `imdb_votes`, `tmdb_popularity`, and `tmdb_score`.\n",
        "\n",
        "For clarification, IMDB (Internet Movie DataBase) and TMDB (The Movie DataBase) are separate but very similar sites, differing slightly in that TMDB is completely powered by its community, unlike IMDB which sources from internal critics as well as audience reviews. For the purpose of gaining a broader understanding of the subject matter, I'll be analyzing movie rating scores from both of these sites seperately and together."
      ],
      "metadata": {
        "id": "nO6ePQeVIyPq"
      }
    },
    {
      "cell_type": "markdown",
      "source": [
        "# YouTube Dataset\n",
        "\n",
        "Now for the other tables I'll be showing, I'll be using another dataset acquired from [kaggle](https://kaggle.com). This dataset includes many variables corresponding to 115 of the highest trending videos from March of 2007 to June of 2016. Each observation of a video contains the following variables:\n",
        "\n",
        "* `Position`: An index column which gives the position of the channel in youtube channel \n",
        "* `Channel Id`: ID of the youtube channel\n",
        "* `Channel Title`: Youtube channel title\n",
        "* `Video Id`: ID of video in the youtube channel\n",
        "* `Published At`: date of the video published at\n",
        "* `Video Title`: Title of the video\n",
        "* `Video Description`: Description of the video(what the video is about)\n",
        "* `Video Category Id`: Category of the video in youtube channel\n",
        "* `Video Category Label`:type of category the video belongs \n",
        "* `Duration`: duration of the video\n",
        "* `Duration Sec`: Duration of video in seconds\n",
        "* `Dimension`: Dimension of the video (2D , Hd) \n",
        "* `Definition`: Defining the video\n",
        "* `Caption`: Boolean type caption (True or False) \n",
        "* `Licensed Content`\n",
        "* `View Count`: number of people viewed the video \n",
        "* `Like Count`: Number of likes the channel got\n",
        "* `Dislike Count`: Number of dislikes the channel got\n",
        "* `Favorite Count`: Number of people marked as favourite\n",
        "* `Comment Count`: Number of people commented on the video\n",
        "\n",
        "While there are a great many variables to be looked at here, we'll only be using `durationSec`, `likeCount`, and `dislikeCount`."
      ],
      "metadata": {
        "id": "68dMA6x6zoi_"
      }
    },
    {
      "cell_type": "markdown",
      "source": [
        "# **ETL (Extraction, Transformation, and Loading)**\n",
        "\n",
        "In order to be able to actually compare these variables, I need to first manipulate the datasets a bit. With the final goal in mind being, one large DataFrame that contains all of the unique TV shows from all of these different steaming services."
      ],
      "metadata": {
        "id": "a6DOkSz39qZE"
      }
    },
    {
      "cell_type": "markdown",
      "source": [
        "First we need to read in all of the datasets that we have."
      ],
      "metadata": {
        "id": "4e9YWOmlor2W"
      }
    },
    {
      "cell_type": "code",
      "source": [
        "netflix_df = pd.read_csv(r'netflix_titles.csv') #import Netflix movies and shows data to a DF\n",
        "hbo_max_df = pd.read_csv(r'hbo_max_titles.csv') #import HBO Max movies and shows data to a DF\n",
        "disneyp_df = pd.read_csv(r'disneyp_titles.csv') #import Disney+ movies and shows data to a DF\n",
        "amazonp_df = pd.read_csv(r'amazonp_titles.csv') #import Amazon Prime movies and shows data to a DF\n",
        "hulu_df = pd.read_csv(r'hulu_titles.csv') #import Hulu movies and shows data to a DF\n",
        "youtube_df = pd.read_csv(r'Trending videos on youtube dataset.csv') #import trending YouTube video data to a DF"
      ],
      "metadata": {
        "id": "-DK1Hap47nz8"
      },
      "execution_count": null,
      "outputs": []
    },
    {
      "cell_type": "markdown",
      "source": [
        "Then we can move on to combining all of the DataFrames into one which contains only shows and not movies. I decided movies are less of a regularly consumed thing and therefore less relevant to our data analysis."
      ],
      "metadata": {
        "id": "MaUZm9uFowkN"
      }
    },
    {
      "cell_type": "code",
      "source": [
        "#Creates one cohesive DataFrame by merging each streaming service's DataFrame together.\n",
        "combined_df = netflix_df.merge(hbo_max_df, on = ['id', 'title', 'type', 'description', 'release_year', 'age_certification', 'runtime', 'genres', 'production_countries', 'seasons', 'imdb_id', 'imdb_score', 'imdb_votes', 'tmdb_popularity', 'tmdb_score'], how = 'outer')\n",
        "combined_df = combined_df.merge(disneyp_df, on = ['id', 'title', 'type', 'description', 'release_year', 'age_certification', 'runtime', 'genres', 'production_countries', 'seasons', 'imdb_id', 'imdb_score', 'imdb_votes', 'tmdb_popularity', 'tmdb_score'], how = 'outer')\n",
        "combined_df = combined_df.merge(amazonp_df, on = ['id', 'title', 'type', 'description', 'release_year', 'age_certification', 'runtime', 'genres', 'production_countries', 'seasons', 'imdb_id', 'imdb_score', 'imdb_votes', 'tmdb_popularity', 'tmdb_score'], how = 'outer')\n",
        "combined_df = combined_df.merge(hulu_df, on = ['id', 'title', 'type', 'description', 'release_year', 'age_certification', 'runtime', 'genres', 'production_countries', 'seasons', 'imdb_id', 'imdb_score', 'imdb_votes', 'tmdb_popularity', 'tmdb_score'], how = 'outer')\n",
        "\n",
        "#Removes all instances of shows that appear on multiple platforms such that they only appear once and with no duplicates.\n",
        "combined_df.drop_duplicates()\n",
        "\n",
        "#Makes a DataFrame which only contains observations that are shows, and not movies.\n",
        "all_shows_df = combined_df[combined_df.type == 'SHOW']"
      ],
      "metadata": {
        "id": "h9WrEvT9-4tk"
      },
      "execution_count": null,
      "outputs": []
    },
    {
      "cell_type": "markdown",
      "source": [
        "Now, I've merged all of the databases from the streaming services together and made a new DataFrame containing only TV shows."
      ],
      "metadata": {
        "id": "upIASk88LxLl"
      }
    },
    {
      "cell_type": "code",
      "source": [
        "#Display the type of each variable in the DataFrame\n",
        "all_shows_df.dtypes"
      ],
      "metadata": {
        "colab": {
          "base_uri": "https://localhost:8080/"
        },
        "id": "IVLBYNIJMiat",
        "outputId": "6bdd2188-d79c-4e44-d214-4cff27274bd1"
      },
      "execution_count": null,
      "outputs": [
        {
          "output_type": "execute_result",
          "data": {
            "text/plain": [
              "count                  5810\n",
              "unique                 1849\n",
              "top       ['documentation']\n",
              "freq                    385\n",
              "Name: genres, dtype: object"
            ]
          },
          "metadata": {},
          "execution_count": 39
        }
      ]
    },
    {
      "cell_type": "markdown",
      "source": [
        "We can see here that the variables: runtime, seasons, `imdb_score`, `imdb_votes`, `tmdb_popularity`, and `tmdb_score` are already in the table as either a `int64` or `float64` type. This is helpful because we can use this to represent these variables as numerical data in our visualizations. Had they been represented by an object or string, I would've had to cast them to an int or float myself."
      ],
      "metadata": {
        "id": "zho131weMxWs"
      }
    },
    {
      "cell_type": "code",
      "source": [
        "#Display the data type of all of youtube_df's features\n",
        "youtube_df.dtypes"
      ],
      "metadata": {
        "colab": {
          "base_uri": "https://localhost:8080/"
        },
        "id": "5lwNZpCmLPyu",
        "outputId": "62c16002-b003-4341-b43d-ec90cdd50283"
      },
      "execution_count": null,
      "outputs": [
        {
          "output_type": "execute_result",
          "data": {
            "text/plain": [
              "Unnamed: 0              int64\n",
              "channelId              object\n",
              "channelTitle           object\n",
              "videoId                object\n",
              "publishedAt            object\n",
              "videoTitle             object\n",
              "videoDescription       object\n",
              "videoCategoryId         int64\n",
              "videoCategoryLabel     object\n",
              "duration               object\n",
              "durationSec             int64\n",
              "definition             object\n",
              "caption                  bool\n",
              "viewCount               int64\n",
              "likeCount             float64\n",
              "dislikeCount          float64\n",
              "commentCount          float64\n",
              "dtype: object"
            ]
          },
          "metadata": {},
          "execution_count": 6
        }
      ]
    },
    {
      "cell_type": "markdown",
      "source": [
        "Just as we did with the show DataFrames, we now can see that `durationSec`, `viewCount`, `likeCount`, and `dislikeCount` are all represented as either an `int64` or `float64`. This is beneficial to us, as we can manipulate this data as numerical data to view relationships and perform necessary calculations with it."
      ],
      "metadata": {
        "id": "F1ISKq9sLoeJ"
      }
    },
    {
      "cell_type": "markdown",
      "source": [
        "#Table 1 - Runtime vs IMDB Scores\n",
        "\n",
        "Now we can do some work to display our representation of the relationship between runtime and IMDB scores."
      ],
      "metadata": {
        "id": "mQ9tPMOBXolJ"
      }
    },
    {
      "cell_type": "code",
      "source": [
        "#Finds the value of the 10th quantile of imdb_votes\n",
        "votes_minimum = all_shows_df.imdb_votes.quantile(0.10)"
      ],
      "metadata": {
        "id": "H58JUlX1NL03"
      },
      "execution_count": null,
      "outputs": []
    },
    {
      "cell_type": "markdown",
      "source": [
        "This value is useful, as it informs us what is a basis for 'enough votes' to qualify as a legimate contribution to the data analysis. I chose the 10th quantile, as it seems to include a large enough majority fo the shows without including outliers. The reviews on these shows could greatly skew the data in a way that would make it harder to reach an accurate conclusion."
      ],
      "metadata": {
        "id": "-zn-qf2EToLm"
      }
    },
    {
      "cell_type": "code",
      "source": [
        "#Creates a DataFrame that includes only shows that are above the established vote minimum\n",
        "imdb_quantiled_df = all_shows_df[all_shows_df.imdb_votes > votes_minimum]\n",
        "\n",
        "\n",
        "#Displays a scatter plot comparing runtime and imdb_score\n",
        "imdb_quantiled_df.plot.scatter(x = 'runtime', y= 'imdb_score', s = 5)"
      ],
      "metadata": {
        "colab": {
          "base_uri": "https://localhost:8080/",
          "height": 297
        },
        "id": "MqNkS_jrT1e9",
        "outputId": "acf9af66-48ad-40b1-d9f0-c88c9652cee3"
      },
      "execution_count": null,
      "outputs": [
        {
          "output_type": "execute_result",
          "data": {
            "text/plain": [
              "<matplotlib.axes._subplots.AxesSubplot at 0x7f191c6b1490>"
            ]
          },
          "metadata": {},
          "execution_count": 8
        },
        {
          "output_type": "display_data",
          "data": {
            "text/plain": [
              "<Figure size 432x288 with 1 Axes>"
            ],
            "image/png": "[encoded data removed]"
          },
          "metadata": {
            "needs_background": "light"
          }
        }
      ]
    },
    {
      "cell_type": "markdown",
      "source": [
        "With this chart we can see a representation of the relationship that a show's runtime has with it's imdb score. At first glance, it appears that my claim's being countered by this data. The shows with longer runtimes appear to be just as positively or negatively reviewed as the shows with shorter runtimes."
      ],
      "metadata": {
        "id": "X7kzNdGuU1CH"
      }
    },
    {
      "cell_type": "markdown",
      "source": [
        "#Table 2 - Runtime vs TMDB Score\n",
        "\n",
        "Now we can start a similar process to find a visual representation of the relationship between TV show runtimes and their respective tmdb scores."
      ],
      "metadata": {
        "id": "rS6bq9o5Vwt1"
      }
    },
    {
      "cell_type": "code",
      "source": [
        "#Finds the value of the 10th quantile of tmdb_popularity\n",
        "popularity_minimum = all_shows_df.tmdb_popularity.quantile(0.10)"
      ],
      "metadata": {
        "id": "tWiUVaJUWqaf"
      },
      "execution_count": null,
      "outputs": []
    },
    {
      "cell_type": "markdown",
      "source": [
        "While the variable `tmdb_popularity` represents a slightly different quantity from `imdb_votes`, it is still not a good idea to remove data from the dataset that represents less popular shows. Similarly to with `imdb_votes`, I'll be cutting this data down using the 10th quantile value as a baseline. The reviews on these shows could greatly skew the data in a way that would make it harder to reach an accurate conclusion."
      ],
      "metadata": {
        "id": "K9lE9ss-YDRQ"
      }
    },
    {
      "cell_type": "code",
      "source": [
        "import math\n",
        "\n",
        "#Creates a new DataFrame with only the shows that are above the established tmdb_popularity minimum\n",
        "tmdb_quantiled_df = all_shows_df[all_shows_df.tmdb_popularity > popularity_minimum]\n",
        "tmdb_quantiled_df.plot.scatter(x = 'runtime', y = 'tmdb_score', s = 3)"
      ],
      "metadata": {
        "colab": {
          "base_uri": "https://localhost:8080/",
          "height": 296
        },
        "id": "HCtki-cAYroD",
        "outputId": "cefb8b22-3fda-40f6-ca90-2abccceeca6f"
      },
      "execution_count": null,
      "outputs": [
        {
          "output_type": "execute_result",
          "data": {
            "text/plain": [
              "<matplotlib.axes._subplots.AxesSubplot at 0x7f191ad9e130>"
            ]
          },
          "metadata": {},
          "execution_count": 73
        },
        {
          "output_type": "display_data",
          "data": {
            "text/plain": [
              "<Figure size 432x288 with 1 Axes>"
            ],
            "image/png": "[encoded data removed]"
          },
          "metadata": {
            "needs_background": "light"
          }
        }
      ]
    },
    {
      "cell_type": "markdown",
      "source": [
        "With this chart we can see a representation of the relationship that a show's runtime has with it's tmdb score. Viewing this chart, it appears that once again, my claim's being countered by this data. There is almost no visible correlationship between any of the runtimes and their TMDB score."
      ],
      "metadata": {
        "id": "6BvOaaNuZaK8"
      }
    },
    {
      "cell_type": "markdown",
      "source": [
        "# Table 3 - IMDB & TMDB Comined"
      ],
      "metadata": {
        "id": "XydUw--9nYmQ"
      }
    },
    {
      "cell_type": "markdown",
      "source": [
        "For an extra layer of analysis, I'll be looking at a new variable which will combine and average the IMDB and TMDB scores of each respective show. This way we can analyze this data free of the bias of these two reviewing sites."
      ],
      "metadata": {
        "id": "0M2wf9QWnmOt"
      }
    },
    {
      "cell_type": "markdown",
      "source": [
        "First, I'll establish the same minimum constraints on a DataFrame as was done with first two tables based on `imdb_votes` and `tmdb_popularity` respectfully."
      ],
      "metadata": {
        "id": "k28J0lIEvWJO"
      }
    },
    {
      "cell_type": "code",
      "source": [
        "#Creates a new DataFrame that has the constraints of both votes_minimum and popularity_minimum\n",
        "imdb_tmdb_df = all_shows_df[(all_shows_df.imdb_votes > votes_minimum)]\n",
        "imdb_tmdb_df = imdb_tmdb_df[(imdb_tmdb_df.tmdb_popularity > popularity_minimum)]"
      ],
      "metadata": {
        "id": "Vih9mdMqufZy"
      },
      "execution_count": null,
      "outputs": []
    },
    {
      "cell_type": "markdown",
      "source": [
        "Now, I'll create a new variable, titled `combined_score` which will represent the average of a particular show's `imdb_score` and `tmdb_score`."
      ],
      "metadata": {
        "id": "dwSLDSLLvmby"
      }
    },
    {
      "cell_type": "code",
      "source": [
        "#Creates the variable combined_score, which averages the imdb_score and the tmdb_score\n",
        "imdb_tmdb_df['combined_score'] = (imdb_tmdb_df['imdb_score'] + imdb_tmdb_df['tmdb_score']) / 2"
      ],
      "metadata": {
        "id": "P7w4rmPuwRrd"
      },
      "execution_count": null,
      "outputs": []
    },
    {
      "cell_type": "markdown",
      "source": [
        "Time to display the data in another scatterplot."
      ],
      "metadata": {
        "id": "3tmNiPgqw7Gv"
      }
    },
    {
      "cell_type": "code",
      "source": [
        "#Displays a scatterplot which compares runtime and combined_score\n",
        "imdb_tmdb_df.plot.scatter(x = 'runtime', y = 'combined_score', s = 3)"
      ],
      "metadata": {
        "colab": {
          "base_uri": "https://localhost:8080/",
          "height": 296
        },
        "id": "6ML1VF_5w_Ma",
        "outputId": "7e31bd36-237a-41bf-9fa6-8b2056ae1e9a"
      },
      "execution_count": null,
      "outputs": [
        {
          "output_type": "execute_result",
          "data": {
            "text/plain": [
              "<matplotlib.axes._subplots.AxesSubplot at 0x7f191aefd160>"
            ]
          },
          "metadata": {},
          "execution_count": 29
        },
        {
          "output_type": "display_data",
          "data": {
            "text/plain": [
              "<Figure size 432x288 with 1 Axes>"
            ],
            "image/png": "[encoded data removed]"
          },
          "metadata": {
            "needs_background": "light"
          }
        }
      ]
    },
    {
      "cell_type": "markdown",
      "source": [
        "To not much surprise, this graph does not provide any support to the decreased appreciation of longform video. It doesn't support that there's any length of show that's more or less likely to be reviewed well."
      ],
      "metadata": {
        "id": "QwtvN4jZx3Nv"
      }
    },
    {
      "cell_type": "markdown",
      "source": [
        "# Table 4 - Video Length vs Youtube Viewership\n",
        "\n",
        "For the next table we'll be looking at, we'll move on to analyzing the dataset from YouTube."
      ],
      "metadata": {
        "id": "1IZrXlzjyTcp"
      }
    },
    {
      "cell_type": "markdown",
      "source": [
        "First, let's just take a look at the relationship between `viewCount` and `runtime`. This will give an indication to whether the length of a video has an impact on how popular it is.\n"
      ],
      "metadata": {
        "id": "vWRH6bFlMdLM"
      }
    },
    {
      "cell_type": "code",
      "source": [
        "#Display youtube_df as a scatterplot that compares durationSec and viewCount\n",
        "youtube_df.plot.scatter(x = 'durationSec', y = 'viewCount', s = 5)"
      ],
      "metadata": {
        "colab": {
          "base_uri": "https://localhost:8080/",
          "height": 296
        },
        "id": "4stkQTRRMtYg",
        "outputId": "e3779a82-7827-4182-d950-87191f526cf9"
      },
      "execution_count": null,
      "outputs": [
        {
          "output_type": "execute_result",
          "data": {
            "text/plain": [
              "<matplotlib.axes._subplots.AxesSubplot at 0x7f78634c1810>"
            ]
          },
          "metadata": {},
          "execution_count": 48
        },
        {
          "output_type": "display_data",
          "data": {
            "text/plain": [
              "<Figure size 432x288 with 1 Axes>"
            ],
            "image/png": "[encoded data removed]"
          },
          "metadata": {
            "needs_background": "light"
          }
        }
      ]
    },
    {
      "cell_type": "markdown",
      "source": [
        "As we can see, this graph doesn't really display anything readable. Let's cut down this DataFrame so that it doesn't display the unnecessary outliers."
      ],
      "metadata": {
        "id": "jiloCcXagLyF"
      }
    },
    {
      "cell_type": "code",
      "source": [
        "#Create a new DataFrame with maximum constraints on durationSec and viewCount\n",
        "youtube_cut = youtube_df[youtube_df['durationSec'] < 1500]\n",
        "youtube_cut = youtube_cut[youtube_df['viewCount'] < 10000]"
      ],
      "metadata": {
        "colab": {
          "base_uri": "https://localhost:8080/"
        },
        "id": "CKUI2hwBgkpH",
        "outputId": "01260c86-6079-46c7-9734-33a51b2efd96"
      },
      "execution_count": null,
      "outputs": [
        {
          "output_type": "stream",
          "name": "stderr",
          "text": [
            "<ipython-input-42-635aee0f1062>:3: UserWarning: Boolean Series key will be reindexed to match DataFrame index.\n",
            "  youtube_cut = youtube_cut[youtube_df['viewCount'] < 10000]\n"
          ]
        }
      ]
    },
    {
      "cell_type": "markdown",
      "source": [
        "Now let's take a look at this slimmed down graph."
      ],
      "metadata": {
        "id": "wOUQAHZEg8pm"
      }
    },
    {
      "cell_type": "code",
      "source": [
        "#Display youtube_cut as a scatterplot that compares durationSec and viewCount\n",
        "youtube_cut.plot.scatter(x = 'durationSec', y = 'viewCount', s = 10)"
      ],
      "metadata": {
        "colab": {
          "base_uri": "https://localhost:8080/",
          "height": 296
        },
        "id": "hPU2MonChByW",
        "outputId": "0b69887d-33c8-47bc-fa08-8e754cb94b85"
      },
      "execution_count": null,
      "outputs": [
        {
          "output_type": "execute_result",
          "data": {
            "text/plain": [
              "<matplotlib.axes._subplots.AxesSubplot at 0x7f191909f970>"
            ]
          },
          "metadata": {},
          "execution_count": 48
        },
        {
          "output_type": "display_data",
          "data": {
            "text/plain": [
              "<Figure size 432x288 with 1 Axes>"
            ],
            "image/png": "[encoded data removed]"
          },
          "metadata": {
            "needs_background": "light"
          }
        }
      ]
    },
    {
      "cell_type": "markdown",
      "source": [
        "This plot doesn't read very well, but with the help of a logarithmic transformation we can notice a bit more of a pattern."
      ],
      "metadata": {
        "id": "oaLbKV8wEuu-"
      }
    },
    {
      "cell_type": "code",
      "source": [
        "#Create a new variable viewCountLog that represents a log base 2 transformation of the viewCount variable\n",
        "youtube_cut['viewCountLog'] = np.log2(youtube_cut['viewCount'])\n",
        "youtube_cut.plot.scatter(x = 'durationSec', y = 'viewCountLog', s = 5)"
      ],
      "metadata": {
        "colab": {
          "base_uri": "https://localhost:8080/",
          "height": 296
        },
        "id": "lKwy15_sEdbu",
        "outputId": "b6fe75c2-f1e8-4704-cb74-589cbfc9d258"
      },
      "execution_count": null,
      "outputs": [
        {
          "output_type": "execute_result",
          "data": {
            "text/plain": [
              "<matplotlib.axes._subplots.AxesSubplot at 0x7f1918fc4e80>"
            ]
          },
          "metadata": {},
          "execution_count": 65
        },
        {
          "output_type": "display_data",
          "data": {
            "text/plain": [
              "<Figure size 432x288 with 1 Axes>"
            ],
            "image/png": "[encoded data removed]"
          },
          "metadata": {
            "needs_background": "light"
          }
        }
      ]
    },
    {
      "cell_type": "markdown",
      "source": [
        "As we can see here, the data becomes sparser as `durationSec` increases, but the plot that we've created reflects a very slight positive relationship, it is not discretely indicitive of real correlation, but it provides a bit of insight."
      ],
      "metadata": {
        "id": "bE8oYTciio18"
      }
    },
    {
      "cell_type": "markdown",
      "source": [
        "# Table 5 - Video Duration vs Youtube Reviews\n",
        "\n",
        "Now we'll be taking a look at how video duration has an impact on a particular video's reviews. Specifically, we'll be comparing `durationSec` to a calculated difference of `likeCount` and `dislikeCount`."
      ],
      "metadata": {
        "id": "AUfr7PD4jkiU"
      }
    },
    {
      "cell_type": "markdown",
      "source": [
        "First, let's create a new feature in the DataFrame that will represent the overall review score of a video based on its `likeCount` and `dislikeCount`. We'll call this new feature: `review_score`."
      ],
      "metadata": {
        "id": "4tnbfq_DkLkK"
      }
    },
    {
      "cell_type": "code",
      "source": [
        "#Computes and adds the new feature: reviewScore to youtube_df\n",
        "youtube_df['reviewScore'] = youtube_df['likeCount'] - youtube_df['dislikeCount']"
      ],
      "metadata": {
        "id": "pzetZEmUkqgz"
      },
      "execution_count": null,
      "outputs": []
    },
    {
      "cell_type": "markdown",
      "source": [
        "Now that we have that, let's take a look at a graphical representation of that relationship."
      ],
      "metadata": {
        "id": "jCi-EoO0k-k9"
      }
    },
    {
      "cell_type": "code",
      "source": [
        "#Displays a scatterplot comparing durationSec and reviewScore\n",
        "youtube_df.plot.scatter(x = 'durationSec', y = 'reviewScore', s = 5)"
      ],
      "metadata": {
        "colab": {
          "base_uri": "https://localhost:8080/",
          "height": 297
        },
        "id": "5Og8GkM9lGiU",
        "outputId": "a2472990-3935-45d0-fd81-fe5e3ce4b126"
      },
      "execution_count": null,
      "outputs": [
        {
          "output_type": "execute_result",
          "data": {
            "text/plain": [
              "<matplotlib.axes._subplots.AxesSubplot at 0x7f786343aed0>"
            ]
          },
          "metadata": {},
          "execution_count": 52
        },
        {
          "output_type": "display_data",
          "data": {
            "text/plain": [
              "<Figure size 432x288 with 1 Axes>"
            ],
            "image/png": "[encoded data removed]"
          },
          "metadata": {
            "needs_background": "light"
          }
        }
      ]
    },
    {
      "cell_type": "markdown",
      "source": [
        "We can see that the same issue is presenting itself as with Table 4, so let's slim it down again."
      ],
      "metadata": {
        "id": "zNFslFjylXby"
      }
    },
    {
      "cell_type": "code",
      "source": [
        "#Creates a new DataFrame with maximum constraints on durationSec and reviewScore\n",
        "youtube_slimmed = youtube_df[youtube_df['durationSec'] < 1000]\n",
        "#youtube_slimmed = youtube_slimmed[youtube_slimmed['reviewScore'] < 150]"
      ],
      "metadata": {
        "id": "BOAjUwdcle-l"
      },
      "execution_count": null,
      "outputs": []
    },
    {
      "cell_type": "markdown",
      "source": [
        "Let's take a look at that graph again."
      ],
      "metadata": {
        "id": "Ys22tzyPl5c9"
      }
    },
    {
      "cell_type": "code",
      "source": [
        "#Displays a scatterplot comparing durationSec and reviewScore\n",
        "youtube_slimmed.plot.scatter(x = 'durationSec', y = 'reviewScore', s = 5)"
      ],
      "metadata": {
        "colab": {
          "base_uri": "https://localhost:8080/",
          "height": 296
        },
        "id": "_7spfAedl88g",
        "outputId": "06b1d19f-4516-4cb4-d071-b67be0709f0d"
      },
      "execution_count": null,
      "outputs": [
        {
          "output_type": "execute_result",
          "data": {
            "text/plain": [
              "<matplotlib.axes._subplots.AxesSubplot at 0x7f1918fc5a00>"
            ]
          },
          "metadata": {},
          "execution_count": 66
        },
        {
          "output_type": "display_data",
          "data": {
            "text/plain": [
              "<Figure size 432x288 with 1 Axes>"
            ],
            "image/png": "[encoded data removed]"
          },
          "metadata": {
            "needs_background": "light"
          }
        }
      ]
    },
    {
      "cell_type": "markdown",
      "source": [
        "This is another situation in which a logarithmic transformation would provide a bit more insight."
      ],
      "metadata": {
        "id": "n2QqB_T6M2pL"
      }
    },
    {
      "cell_type": "code",
      "source": [
        "#Create a new variable reviewScoreLog that represents a log base 2 transformation of the reviewScore variable\n",
        "youtube_slimmed['reviewScoreLog'] = np.log2(youtube_slimmed['reviewScore'])\n",
        "youtube_slimmed.plot.scatter(x = 'durationSec', y = 'reviewScoreLog', s = 5)"
      ],
      "metadata": {
        "colab": {
          "base_uri": "https://localhost:8080/",
          "height": 296
        },
        "id": "A2cFU4uVMhvP",
        "outputId": "4fc106cf-e218-46fe-860b-6f13f4afa248"
      },
      "execution_count": null,
      "outputs": [
        {
          "output_type": "execute_result",
          "data": {
            "text/plain": [
              "<matplotlib.axes._subplots.AxesSubplot at 0x7f191aba5400>"
            ]
          },
          "metadata": {},
          "execution_count": 71
        },
        {
          "output_type": "display_data",
          "data": {
            "text/plain": [
              "<Figure size 432x288 with 1 Axes>"
            ],
            "image/png": "[encoded data removed]"
          },
          "metadata": {
            "needs_background": "light"
          }
        }
      ]
    },
    {
      "cell_type": "markdown",
      "source": [
        "This scatter plot really just reads as an almost even distribution of scores Once again, we're left with a graphical representation of this data that does not serve to prove any relationship between video media runtime and overall reception."
      ],
      "metadata": {
        "id": "c5zT_dlGmT2a"
      }
    },
    {
      "cell_type": "markdown",
      "source": [
        "# **Closing Thoughts and Goals Moving Forward**\n",
        "\n",
        "Currently, it seems as though the further I delve into this topic, the less there seems to be a relationship where I thought there would be. Perhaps one could simply conclude that digital media is not indicative of this change in human attention span. I do believe that there's more to be seen here, and there's more that I could discover. Perhaps it's time to shift my analysis to answer some side question which is more insightful and actually supported by trends that I find. I've thought of two plausible models that I could manufacture in order to further develop my investigation from here.\n",
        "\n",
        "\n",
        "1.   The relationship between the age demographic of a reviewer and the favored runtimes of their video media.\n",
        "2.   A general comparison between review scores and other variables eg. genres, production country, age restrictions, etc.\n",
        "\n",
        "I believe that shifting my focus towards these two models could move me towards some other questions, specifically what makes a particular piece of video media 'good'. I believe that this line of analysis will make my work more insightful and creative going forward."
      ],
      "metadata": {
        "id": "UszhN3pfbhle"
      }
    },
    {
      "cell_type": "markdown",
      "source": [
        "Linked below are the sources where I found the datasets I used throughout:\n",
        "\n",
        "[Netflix TV Shows and Movies](https://www.kaggle.com/datasets/victorsoeiro/netflix-tv-shows-and-movies?select=titles.csv)\n",
        "\n",
        "[HBO Max TV Shows and Movies](https://www.kaggle.com/datasets/victorsoeiro/hbo-max-tv-shows-and-movies?select=titles.csv)\n",
        "\n",
        "[Disney+ TV Shows and Movies](https://www.kaggle.com/datasets/victorsoeiro/disney-tv-shows-and-movies?select=titles.csv)\n",
        "\n",
        "[Amazon Prime TV Shows and Movies](https://www.kaggle.com/datasets/victorsoeiro/amazon-prime-tv-shows-and-movies?select=titles.csv)\n",
        "\n",
        "[Hulu TV Shows and Movies](https://www.kaggle.com/datasets/victorsoeiro/hulu-tv-shows-and-movies?select=titles.csv)\n",
        "\n",
        "[Trending Videos on Youtube](https://www.kaggle.com/datasets/anushabellam/trending-videos-on-youtube)"
      ],
      "metadata": {
        "id": "aiIZmL0rnpE_"
      }
    },
    {
      "cell_type": "markdown",
      "source": [
        "Below is just a way of converting my file to HTML."
      ],
      "metadata": {
        "id": "PfpqpztAsczF"
      }
    },
    {
      "cell_type": "code",
      "source": [
        "%%shell\n",
        "jupyter nbconvert /content/drive/MyDrive/Colab_Notebooks/Final_Tutorial/Luke_Gulson_Final_Tutorial.ipynb"
      ],
      "metadata": {
        "colab": {
          "base_uri": "https://localhost:8080/"
        },
        "id": "hulz5pRVeCsY",
        "outputId": "079bea6d-9bad-48ea-c1d8-38ab21500b4e"
      },
      "execution_count": 77,
      "outputs": [
        {
          "output_type": "stream",
          "name": "stdout",
          "text": [
            "[NbConvertApp] Converting notebook /content/drive/MyDrive/Colab_Notebooks/Final_Tutorial/Luke_Gulson_Final_Tutorial.ipynb to html\n",
            "[NbConvertApp] Writing 463217 bytes to /content/drive/MyDrive/Colab_Notebooks/Final_Tutorial/Luke_Gulson_Final_Tutorial.html\n"
          ]
        },
        {
          "output_type": "execute_result",
          "data": {
            "text/plain": []
          },
          "metadata": {},
          "execution_count": 77
        }
      ]
    }
  ]
}